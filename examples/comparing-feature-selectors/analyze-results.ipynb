{
 "cells": [
  {
   "cell_type": "markdown",
   "metadata": {},
   "source": [
    "## Comparing Feature Selectors\n",
    "Hi! You want to compare the performance of multiple feature selectors? This is an example Notebook, showing you how to do such an analysis. "
   ]
  },
  {
   "cell_type": "markdown",
   "metadata": {},
   "source": [
    "First of all, to recap:\n",
    "\n",
    "1. You just ran something similar to:\n",
    "\n",
    "    `python benchmark.py --multirun ranker=\"glob(*)\" +callbacks.to_sql.url=\"sqlite:////tmp/results.sqlite\"`\n",
    "2. There now should exist a `.sqlite` file at this path: `/tmp/results.sqlite`:\n",
    "\n",
    "    ```\n",
    "    $ ls -al /tmp/results.sqlite\n",
    "    -rw-r--r-- 1 vscode vscode 20480 Sep 21 08:16 /tmp/results.sqlite\n",
    "    ```\n",
    "\n",
    "Let's now analyze the results! 📈"
   ]
  },
  {
   "cell_type": "markdown",
   "metadata": {},
   "source": [
    "We will install `plotly-express`, so we can make nice plots later."
   ]
  },
  {
   "cell_type": "code",
   "execution_count": 13,
   "metadata": {},
   "outputs": [
    {
     "name": "stdout",
     "output_type": "stream",
     "text": [
      "\n",
      "\u001b[1m[\u001b[0m\u001b[34;49mnotice\u001b[0m\u001b[1;39;49m]\u001b[0m\u001b[39;49m A new release of pip available: \u001b[0m\u001b[31;49m22.2.2\u001b[0m\u001b[39;49m -> \u001b[0m\u001b[32;49m22.3\u001b[0m\n",
      "\u001b[1m[\u001b[0m\u001b[34;49mnotice\u001b[0m\u001b[1;39;49m]\u001b[0m\u001b[39;49m To update, run: \u001b[0m\u001b[32;49mpip install --upgrade pip\u001b[0m\n",
      "Note: you may need to restart the kernel to use updated packages.\n"
     ]
    }
   ],
   "source": [
    "%pip install plotly-express nbconvert --quiet"
   ]
  },
  {
   "cell_type": "markdown",
   "metadata": {},
   "source": [
    "Next, let's find a place to store our results to. In this case, we choose to store it in a local SQLite database, located at `/tmp/results.sqlite`."
   ]
  },
  {
   "cell_type": "code",
   "execution_count": 14,
   "metadata": {},
   "outputs": [
    {
     "data": {
      "text/plain": [
       "'sqlite:////tmp/results.sqlite'"
      ]
     },
     "execution_count": 14,
     "metadata": {},
     "output_type": "execute_result"
    }
   ],
   "source": [
    "import os\n",
    "\n",
    "con: str = \"sqlite:////tmp/results.sqlite\"\n",
    "con"
   ]
  },
  {
   "cell_type": "markdown",
   "metadata": {},
   "source": [
    "Now, we can read the `experiments` table."
   ]
  },
  {
   "cell_type": "code",
   "execution_count": 15,
   "metadata": {},
   "outputs": [
    {
     "data": {
      "text/html": [
       "<div>\n",
       "<style scoped>\n",
       "    .dataframe tbody tr th:only-of-type {\n",
       "        vertical-align: middle;\n",
       "    }\n",
       "\n",
       "    .dataframe tbody tr th {\n",
       "        vertical-align: top;\n",
       "    }\n",
       "\n",
       "    .dataframe thead th {\n",
       "        text-align: right;\n",
       "    }\n",
       "</style>\n",
       "<table border=\"1\" class=\"dataframe\">\n",
       "  <thead>\n",
       "    <tr style=\"text-align: right;\">\n",
       "      <th></th>\n",
       "      <th>dataset</th>\n",
       "      <th>dataset/n</th>\n",
       "      <th>dataset/p</th>\n",
       "      <th>dataset/task</th>\n",
       "      <th>dataset/group</th>\n",
       "      <th>dataset/domain</th>\n",
       "      <th>ranker</th>\n",
       "      <th>validator</th>\n",
       "      <th>local_dir</th>\n",
       "      <th>date_created</th>\n",
       "    </tr>\n",
       "    <tr>\n",
       "      <th>id</th>\n",
       "      <th></th>\n",
       "      <th></th>\n",
       "      <th></th>\n",
       "      <th></th>\n",
       "      <th></th>\n",
       "      <th></th>\n",
       "      <th></th>\n",
       "      <th></th>\n",
       "      <th></th>\n",
       "      <th></th>\n",
       "    </tr>\n",
       "  </thead>\n",
       "  <tbody>\n",
       "    <tr>\n",
       "      <th>3lllxl48</th>\n",
       "      <td>My synthetic dataset</td>\n",
       "      <td>10000</td>\n",
       "      <td>20</td>\n",
       "      <td>classification</td>\n",
       "      <td>None</td>\n",
       "      <td>None</td>\n",
       "      <td>ANOVA F-value</td>\n",
       "      <td>k-NN</td>\n",
       "      <td>/workspaces/fseval/examples/comparing-feature-...</td>\n",
       "      <td>2022-10-22 14:28:27.506838</td>\n",
       "    </tr>\n",
       "    <tr>\n",
       "      <th>1944ropg</th>\n",
       "      <td>My synthetic dataset</td>\n",
       "      <td>10000</td>\n",
       "      <td>20</td>\n",
       "      <td>classification</td>\n",
       "      <td>None</td>\n",
       "      <td>None</td>\n",
       "      <td>Boruta</td>\n",
       "      <td>k-NN</td>\n",
       "      <td>/workspaces/fseval/examples/comparing-feature-...</td>\n",
       "      <td>2022-10-22 14:28:31.230633</td>\n",
       "    </tr>\n",
       "    <tr>\n",
       "      <th>31gd56gf</th>\n",
       "      <td>My synthetic dataset</td>\n",
       "      <td>10000</td>\n",
       "      <td>20</td>\n",
       "      <td>classification</td>\n",
       "      <td>None</td>\n",
       "      <td>None</td>\n",
       "      <td>Chi-Squared</td>\n",
       "      <td>k-NN</td>\n",
       "      <td>/workspaces/fseval/examples/comparing-feature-...</td>\n",
       "      <td>2022-10-22 14:29:19.633012</td>\n",
       "    </tr>\n",
       "    <tr>\n",
       "      <th>a8washm5</th>\n",
       "      <td>My synthetic dataset</td>\n",
       "      <td>10000</td>\n",
       "      <td>20</td>\n",
       "      <td>classification</td>\n",
       "      <td>None</td>\n",
       "      <td>None</td>\n",
       "      <td>Decision Tree</td>\n",
       "      <td>k-NN</td>\n",
       "      <td>/workspaces/fseval/examples/comparing-feature-...</td>\n",
       "      <td>2022-10-22 14:29:23.459190</td>\n",
       "    </tr>\n",
       "    <tr>\n",
       "      <th>27i7uwg4</th>\n",
       "      <td>My synthetic dataset</td>\n",
       "      <td>10000</td>\n",
       "      <td>20</td>\n",
       "      <td>classification</td>\n",
       "      <td>None</td>\n",
       "      <td>None</td>\n",
       "      <td>Infinite Selection</td>\n",
       "      <td>k-NN</td>\n",
       "      <td>/workspaces/fseval/examples/comparing-feature-...</td>\n",
       "      <td>2022-10-22 14:29:27.506974</td>\n",
       "    </tr>\n",
       "    <tr>\n",
       "      <th>3velt3b9</th>\n",
       "      <td>My synthetic dataset</td>\n",
       "      <td>10000</td>\n",
       "      <td>20</td>\n",
       "      <td>classification</td>\n",
       "      <td>None</td>\n",
       "      <td>None</td>\n",
       "      <td>MultiSURF</td>\n",
       "      <td>k-NN</td>\n",
       "      <td>/workspaces/fseval/examples/comparing-feature-...</td>\n",
       "      <td>2022-10-22 14:29:31.758090</td>\n",
       "    </tr>\n",
       "    <tr>\n",
       "      <th>3fdrxlt6</th>\n",
       "      <td>My synthetic dataset</td>\n",
       "      <td>10000</td>\n",
       "      <td>20</td>\n",
       "      <td>classification</td>\n",
       "      <td>None</td>\n",
       "      <td>None</td>\n",
       "      <td>Mutual Info</td>\n",
       "      <td>k-NN</td>\n",
       "      <td>/workspaces/fseval/examples/comparing-feature-...</td>\n",
       "      <td>2022-10-22 14:35:04.289361</td>\n",
       "    </tr>\n",
       "    <tr>\n",
       "      <th>14lecx0g</th>\n",
       "      <td>My synthetic dataset</td>\n",
       "      <td>10000</td>\n",
       "      <td>20</td>\n",
       "      <td>classification</td>\n",
       "      <td>None</td>\n",
       "      <td>None</td>\n",
       "      <td>ReliefF</td>\n",
       "      <td>k-NN</td>\n",
       "      <td>/workspaces/fseval/examples/comparing-feature-...</td>\n",
       "      <td>2022-10-22 14:35:08.614262</td>\n",
       "    </tr>\n",
       "    <tr>\n",
       "      <th>3sggjvu3</th>\n",
       "      <td>My synthetic dataset</td>\n",
       "      <td>10000</td>\n",
       "      <td>20</td>\n",
       "      <td>classification</td>\n",
       "      <td>None</td>\n",
       "      <td>None</td>\n",
       "      <td>Stability Selection</td>\n",
       "      <td>k-NN</td>\n",
       "      <td>/workspaces/fseval/examples/comparing-feature-...</td>\n",
       "      <td>2022-10-22 14:35:59.121416</td>\n",
       "    </tr>\n",
       "    <tr>\n",
       "      <th>dtt8bvo5</th>\n",
       "      <td>My synthetic dataset</td>\n",
       "      <td>10000</td>\n",
       "      <td>20</td>\n",
       "      <td>classification</td>\n",
       "      <td>None</td>\n",
       "      <td>None</td>\n",
       "      <td>XGBoost</td>\n",
       "      <td>k-NN</td>\n",
       "      <td>/workspaces/fseval/examples/comparing-feature-...</td>\n",
       "      <td>2022-10-22 14:36:23.385401</td>\n",
       "    </tr>\n",
       "  </tbody>\n",
       "</table>\n",
       "</div>"
      ],
      "text/plain": [
       "                       dataset  dataset/n  dataset/p    dataset/task  \\\n",
       "id                                                                     \n",
       "3lllxl48  My synthetic dataset      10000         20  classification   \n",
       "1944ropg  My synthetic dataset      10000         20  classification   \n",
       "31gd56gf  My synthetic dataset      10000         20  classification   \n",
       "a8washm5  My synthetic dataset      10000         20  classification   \n",
       "27i7uwg4  My synthetic dataset      10000         20  classification   \n",
       "3velt3b9  My synthetic dataset      10000         20  classification   \n",
       "3fdrxlt6  My synthetic dataset      10000         20  classification   \n",
       "14lecx0g  My synthetic dataset      10000         20  classification   \n",
       "3sggjvu3  My synthetic dataset      10000         20  classification   \n",
       "dtt8bvo5  My synthetic dataset      10000         20  classification   \n",
       "\n",
       "         dataset/group dataset/domain               ranker validator  \\\n",
       "id                                                                     \n",
       "3lllxl48          None           None        ANOVA F-value      k-NN   \n",
       "1944ropg          None           None               Boruta      k-NN   \n",
       "31gd56gf          None           None          Chi-Squared      k-NN   \n",
       "a8washm5          None           None        Decision Tree      k-NN   \n",
       "27i7uwg4          None           None   Infinite Selection      k-NN   \n",
       "3velt3b9          None           None            MultiSURF      k-NN   \n",
       "3fdrxlt6          None           None          Mutual Info      k-NN   \n",
       "14lecx0g          None           None              ReliefF      k-NN   \n",
       "3sggjvu3          None           None  Stability Selection      k-NN   \n",
       "dtt8bvo5          None           None              XGBoost      k-NN   \n",
       "\n",
       "                                                  local_dir  \\\n",
       "id                                                            \n",
       "3lllxl48  /workspaces/fseval/examples/comparing-feature-...   \n",
       "1944ropg  /workspaces/fseval/examples/comparing-feature-...   \n",
       "31gd56gf  /workspaces/fseval/examples/comparing-feature-...   \n",
       "a8washm5  /workspaces/fseval/examples/comparing-feature-...   \n",
       "27i7uwg4  /workspaces/fseval/examples/comparing-feature-...   \n",
       "3velt3b9  /workspaces/fseval/examples/comparing-feature-...   \n",
       "3fdrxlt6  /workspaces/fseval/examples/comparing-feature-...   \n",
       "14lecx0g  /workspaces/fseval/examples/comparing-feature-...   \n",
       "3sggjvu3  /workspaces/fseval/examples/comparing-feature-...   \n",
       "dtt8bvo5  /workspaces/fseval/examples/comparing-feature-...   \n",
       "\n",
       "                       date_created  \n",
       "id                                   \n",
       "3lllxl48 2022-10-22 14:28:27.506838  \n",
       "1944ropg 2022-10-22 14:28:31.230633  \n",
       "31gd56gf 2022-10-22 14:29:19.633012  \n",
       "a8washm5 2022-10-22 14:29:23.459190  \n",
       "27i7uwg4 2022-10-22 14:29:27.506974  \n",
       "3velt3b9 2022-10-22 14:29:31.758090  \n",
       "3fdrxlt6 2022-10-22 14:35:04.289361  \n",
       "14lecx0g 2022-10-22 14:35:08.614262  \n",
       "3sggjvu3 2022-10-22 14:35:59.121416  \n",
       "dtt8bvo5 2022-10-22 14:36:23.385401  "
      ]
     },
     "execution_count": 15,
     "metadata": {},
     "output_type": "execute_result"
    }
   ],
   "source": [
    "import pandas as pd\n",
    "\n",
    "experiments: pd.DataFrame = pd.read_sql_table(\"experiments\", con=con, index_col=\"id\")\n",
    "experiments"
   ]
  },
  {
   "cell_type": "markdown",
   "metadata": {},
   "source": [
    "Let's also read in the `validation_scores`."
   ]
  },
  {
   "cell_type": "code",
   "execution_count": 16,
   "metadata": {},
   "outputs": [
    {
     "data": {
      "text/html": [
       "<div>\n",
       "<style scoped>\n",
       "    .dataframe tbody tr th:only-of-type {\n",
       "        vertical-align: middle;\n",
       "    }\n",
       "\n",
       "    .dataframe tbody tr th {\n",
       "        vertical-align: top;\n",
       "    }\n",
       "\n",
       "    .dataframe thead th {\n",
       "        text-align: right;\n",
       "    }\n",
       "</style>\n",
       "<table border=\"1\" class=\"dataframe\">\n",
       "  <thead>\n",
       "    <tr style=\"text-align: right;\">\n",
       "      <th></th>\n",
       "      <th>index</th>\n",
       "      <th>n_features_to_select</th>\n",
       "      <th>fit_time</th>\n",
       "      <th>score</th>\n",
       "      <th>bootstrap_state</th>\n",
       "    </tr>\n",
       "    <tr>\n",
       "      <th>id</th>\n",
       "      <th></th>\n",
       "      <th></th>\n",
       "      <th></th>\n",
       "      <th></th>\n",
       "      <th></th>\n",
       "    </tr>\n",
       "  </thead>\n",
       "  <tbody>\n",
       "    <tr>\n",
       "      <th>3lllxl48</th>\n",
       "      <td>0</td>\n",
       "      <td>1</td>\n",
       "      <td>0.004433</td>\n",
       "      <td>0.7955</td>\n",
       "      <td>1</td>\n",
       "    </tr>\n",
       "    <tr>\n",
       "      <th>3lllxl48</th>\n",
       "      <td>0</td>\n",
       "      <td>2</td>\n",
       "      <td>0.004227</td>\n",
       "      <td>0.7910</td>\n",
       "      <td>1</td>\n",
       "    </tr>\n",
       "    <tr>\n",
       "      <th>3lllxl48</th>\n",
       "      <td>0</td>\n",
       "      <td>3</td>\n",
       "      <td>0.005183</td>\n",
       "      <td>0.7950</td>\n",
       "      <td>1</td>\n",
       "    </tr>\n",
       "    <tr>\n",
       "      <th>3lllxl48</th>\n",
       "      <td>0</td>\n",
       "      <td>4</td>\n",
       "      <td>0.003865</td>\n",
       "      <td>0.7965</td>\n",
       "      <td>1</td>\n",
       "    </tr>\n",
       "    <tr>\n",
       "      <th>3lllxl48</th>\n",
       "      <td>0</td>\n",
       "      <td>5</td>\n",
       "      <td>0.002902</td>\n",
       "      <td>0.7950</td>\n",
       "      <td>1</td>\n",
       "    </tr>\n",
       "    <tr>\n",
       "      <th>...</th>\n",
       "      <td>...</td>\n",
       "      <td>...</td>\n",
       "      <td>...</td>\n",
       "      <td>...</td>\n",
       "      <td>...</td>\n",
       "    </tr>\n",
       "    <tr>\n",
       "      <th>dtt8bvo5</th>\n",
       "      <td>0</td>\n",
       "      <td>16</td>\n",
       "      <td>0.000670</td>\n",
       "      <td>0.7805</td>\n",
       "      <td>1</td>\n",
       "    </tr>\n",
       "    <tr>\n",
       "      <th>dtt8bvo5</th>\n",
       "      <td>0</td>\n",
       "      <td>17</td>\n",
       "      <td>0.000480</td>\n",
       "      <td>0.7725</td>\n",
       "      <td>1</td>\n",
       "    </tr>\n",
       "    <tr>\n",
       "      <th>dtt8bvo5</th>\n",
       "      <td>0</td>\n",
       "      <td>18</td>\n",
       "      <td>0.003159</td>\n",
       "      <td>0.7760</td>\n",
       "      <td>1</td>\n",
       "    </tr>\n",
       "    <tr>\n",
       "      <th>dtt8bvo5</th>\n",
       "      <td>0</td>\n",
       "      <td>19</td>\n",
       "      <td>0.000848</td>\n",
       "      <td>0.7650</td>\n",
       "      <td>1</td>\n",
       "    </tr>\n",
       "    <tr>\n",
       "      <th>dtt8bvo5</th>\n",
       "      <td>0</td>\n",
       "      <td>20</td>\n",
       "      <td>0.000565</td>\n",
       "      <td>0.7590</td>\n",
       "      <td>1</td>\n",
       "    </tr>\n",
       "  </tbody>\n",
       "</table>\n",
       "<p>160 rows × 5 columns</p>\n",
       "</div>"
      ],
      "text/plain": [
       "          index  n_features_to_select  fit_time   score  bootstrap_state\n",
       "id                                                                      \n",
       "3lllxl48      0                     1  0.004433  0.7955                1\n",
       "3lllxl48      0                     2  0.004227  0.7910                1\n",
       "3lllxl48      0                     3  0.005183  0.7950                1\n",
       "3lllxl48      0                     4  0.003865  0.7965                1\n",
       "3lllxl48      0                     5  0.002902  0.7950                1\n",
       "...         ...                   ...       ...     ...              ...\n",
       "dtt8bvo5      0                    16  0.000670  0.7805                1\n",
       "dtt8bvo5      0                    17  0.000480  0.7725                1\n",
       "dtt8bvo5      0                    18  0.003159  0.7760                1\n",
       "dtt8bvo5      0                    19  0.000848  0.7650                1\n",
       "dtt8bvo5      0                    20  0.000565  0.7590                1\n",
       "\n",
       "[160 rows x 5 columns]"
      ]
     },
     "execution_count": 16,
     "metadata": {},
     "output_type": "execute_result"
    }
   ],
   "source": [
    "validation_scores: pd.DataFrame = pd.read_sql_table(\"validation_scores\", con=con, index_col=\"id\")\n",
    "validation_scores"
   ]
  },
  {
   "cell_type": "markdown",
   "metadata": {},
   "source": [
    "We can now merge them. Notice that we set as the _index_ the experiment ID, so we can use `pd.DataFrame.join` to do this."
   ]
  },
  {
   "cell_type": "code",
   "execution_count": 17,
   "metadata": {},
   "outputs": [
    {
     "data": {
      "text/html": [
       "<div>\n",
       "<style scoped>\n",
       "    .dataframe tbody tr th:only-of-type {\n",
       "        vertical-align: middle;\n",
       "    }\n",
       "\n",
       "    .dataframe tbody tr th {\n",
       "        vertical-align: top;\n",
       "    }\n",
       "\n",
       "    .dataframe thead th {\n",
       "        text-align: right;\n",
       "    }\n",
       "</style>\n",
       "<table border=\"1\" class=\"dataframe\">\n",
       "  <thead>\n",
       "    <tr style=\"text-align: right;\">\n",
       "      <th></th>\n",
       "      <th>dataset</th>\n",
       "      <th>dataset/n</th>\n",
       "      <th>dataset/p</th>\n",
       "      <th>dataset/task</th>\n",
       "      <th>dataset/group</th>\n",
       "      <th>dataset/domain</th>\n",
       "      <th>ranker</th>\n",
       "      <th>validator</th>\n",
       "      <th>local_dir</th>\n",
       "      <th>date_created</th>\n",
       "      <th>index</th>\n",
       "      <th>n_features_to_select</th>\n",
       "      <th>fit_time</th>\n",
       "      <th>score</th>\n",
       "      <th>bootstrap_state</th>\n",
       "    </tr>\n",
       "    <tr>\n",
       "      <th>id</th>\n",
       "      <th></th>\n",
       "      <th></th>\n",
       "      <th></th>\n",
       "      <th></th>\n",
       "      <th></th>\n",
       "      <th></th>\n",
       "      <th></th>\n",
       "      <th></th>\n",
       "      <th></th>\n",
       "      <th></th>\n",
       "      <th></th>\n",
       "      <th></th>\n",
       "      <th></th>\n",
       "      <th></th>\n",
       "      <th></th>\n",
       "    </tr>\n",
       "  </thead>\n",
       "  <tbody>\n",
       "    <tr>\n",
       "      <th>14lecx0g</th>\n",
       "      <td>My synthetic dataset</td>\n",
       "      <td>10000</td>\n",
       "      <td>20</td>\n",
       "      <td>classification</td>\n",
       "      <td>None</td>\n",
       "      <td>None</td>\n",
       "      <td>ReliefF</td>\n",
       "      <td>k-NN</td>\n",
       "      <td>/workspaces/fseval/examples/comparing-feature-...</td>\n",
       "      <td>2022-10-22 14:35:08.614262</td>\n",
       "      <td>NaN</td>\n",
       "      <td>NaN</td>\n",
       "      <td>NaN</td>\n",
       "      <td>NaN</td>\n",
       "      <td>NaN</td>\n",
       "    </tr>\n",
       "  </tbody>\n",
       "</table>\n",
       "</div>"
      ],
      "text/plain": [
       "                       dataset  dataset/n  dataset/p    dataset/task  \\\n",
       "id                                                                     \n",
       "14lecx0g  My synthetic dataset      10000         20  classification   \n",
       "\n",
       "         dataset/group dataset/domain   ranker validator  \\\n",
       "id                                                         \n",
       "14lecx0g          None           None  ReliefF      k-NN   \n",
       "\n",
       "                                                  local_dir  \\\n",
       "id                                                            \n",
       "14lecx0g  /workspaces/fseval/examples/comparing-feature-...   \n",
       "\n",
       "                       date_created  index  n_features_to_select  fit_time  \\\n",
       "id                                                                           \n",
       "14lecx0g 2022-10-22 14:35:08.614262    NaN                   NaN       NaN   \n",
       "\n",
       "          score  bootstrap_state  \n",
       "id                                \n",
       "14lecx0g    NaN              NaN  "
      ]
     },
     "execution_count": 17,
     "metadata": {},
     "output_type": "execute_result"
    }
   ],
   "source": [
    "validation_scores_with_experiment_info = experiments.join(\n",
    "    validation_scores\n",
    ")\n",
    "validation_scores_with_experiment_info.head(1)"
   ]
  },
  {
   "cell_type": "markdown",
   "metadata": {},
   "source": [
    "Cool! That will be all the information that we need. Let's first create an overview for all the rankers we benchmarked."
   ]
  },
  {
   "cell_type": "code",
   "execution_count": 25,
   "metadata": {},
   "outputs": [
    {
     "data": {
      "text/html": [
       "<div>\n",
       "<style scoped>\n",
       "    .dataframe tbody tr th:only-of-type {\n",
       "        vertical-align: middle;\n",
       "    }\n",
       "\n",
       "    .dataframe tbody tr th {\n",
       "        vertical-align: top;\n",
       "    }\n",
       "\n",
       "    .dataframe thead th {\n",
       "        text-align: right;\n",
       "    }\n",
       "</style>\n",
       "<table border=\"1\" class=\"dataframe\">\n",
       "  <thead>\n",
       "    <tr style=\"text-align: right;\">\n",
       "      <th></th>\n",
       "      <th>dataset/n</th>\n",
       "      <th>dataset/p</th>\n",
       "      <th>index</th>\n",
       "      <th>n_features_to_select</th>\n",
       "      <th>fit_time</th>\n",
       "      <th>score</th>\n",
       "      <th>bootstrap_state</th>\n",
       "    </tr>\n",
       "    <tr>\n",
       "      <th>ranker</th>\n",
       "      <th></th>\n",
       "      <th></th>\n",
       "      <th></th>\n",
       "      <th></th>\n",
       "      <th></th>\n",
       "      <th></th>\n",
       "      <th></th>\n",
       "    </tr>\n",
       "  </thead>\n",
       "  <tbody>\n",
       "    <tr>\n",
       "      <th>Infinite Selection</th>\n",
       "      <td>10000.0</td>\n",
       "      <td>20.0</td>\n",
       "      <td>0.0</td>\n",
       "      <td>10.5</td>\n",
       "      <td>0.004600</td>\n",
       "      <td>0.818925</td>\n",
       "      <td>1.0</td>\n",
       "    </tr>\n",
       "    <tr>\n",
       "      <th>XGBoost</th>\n",
       "      <td>10000.0</td>\n",
       "      <td>20.0</td>\n",
       "      <td>0.0</td>\n",
       "      <td>10.5</td>\n",
       "      <td>0.002998</td>\n",
       "      <td>0.818575</td>\n",
       "      <td>1.0</td>\n",
       "    </tr>\n",
       "    <tr>\n",
       "      <th>Decision Tree</th>\n",
       "      <td>10000.0</td>\n",
       "      <td>20.0</td>\n",
       "      <td>0.0</td>\n",
       "      <td>10.5</td>\n",
       "      <td>0.002810</td>\n",
       "      <td>0.817675</td>\n",
       "      <td>1.0</td>\n",
       "    </tr>\n",
       "    <tr>\n",
       "      <th>Stability Selection</th>\n",
       "      <td>10000.0</td>\n",
       "      <td>20.0</td>\n",
       "      <td>0.0</td>\n",
       "      <td>10.5</td>\n",
       "      <td>0.002406</td>\n",
       "      <td>0.803325</td>\n",
       "      <td>1.0</td>\n",
       "    </tr>\n",
       "    <tr>\n",
       "      <th>Chi-Squared</th>\n",
       "      <td>10000.0</td>\n",
       "      <td>20.0</td>\n",
       "      <td>0.0</td>\n",
       "      <td>10.5</td>\n",
       "      <td>0.002548</td>\n",
       "      <td>0.795975</td>\n",
       "      <td>1.0</td>\n",
       "    </tr>\n",
       "    <tr>\n",
       "      <th>ANOVA F-value</th>\n",
       "      <td>10000.0</td>\n",
       "      <td>20.0</td>\n",
       "      <td>0.0</td>\n",
       "      <td>10.5</td>\n",
       "      <td>0.003745</td>\n",
       "      <td>0.789275</td>\n",
       "      <td>1.0</td>\n",
       "    </tr>\n",
       "    <tr>\n",
       "      <th>Mutual Info</th>\n",
       "      <td>10000.0</td>\n",
       "      <td>20.0</td>\n",
       "      <td>0.0</td>\n",
       "      <td>10.5</td>\n",
       "      <td>0.002314</td>\n",
       "      <td>0.786475</td>\n",
       "      <td>1.0</td>\n",
       "    </tr>\n",
       "    <tr>\n",
       "      <th>Boruta</th>\n",
       "      <td>10000.0</td>\n",
       "      <td>20.0</td>\n",
       "      <td>0.0</td>\n",
       "      <td>10.5</td>\n",
       "      <td>0.002366</td>\n",
       "      <td>0.518075</td>\n",
       "      <td>1.0</td>\n",
       "    </tr>\n",
       "    <tr>\n",
       "      <th>MultiSURF</th>\n",
       "      <td>10000.0</td>\n",
       "      <td>20.0</td>\n",
       "      <td>NaN</td>\n",
       "      <td>NaN</td>\n",
       "      <td>NaN</td>\n",
       "      <td>NaN</td>\n",
       "      <td>NaN</td>\n",
       "    </tr>\n",
       "    <tr>\n",
       "      <th>ReliefF</th>\n",
       "      <td>10000.0</td>\n",
       "      <td>20.0</td>\n",
       "      <td>NaN</td>\n",
       "      <td>NaN</td>\n",
       "      <td>NaN</td>\n",
       "      <td>NaN</td>\n",
       "      <td>NaN</td>\n",
       "    </tr>\n",
       "  </tbody>\n",
       "</table>\n",
       "</div>"
      ],
      "text/plain": [
       "                     dataset/n  dataset/p  index  n_features_to_select  \\\n",
       "ranker                                                                   \n",
       "Infinite Selection     10000.0       20.0    0.0                  10.5   \n",
       "XGBoost                10000.0       20.0    0.0                  10.5   \n",
       "Decision Tree          10000.0       20.0    0.0                  10.5   \n",
       "Stability Selection    10000.0       20.0    0.0                  10.5   \n",
       "Chi-Squared            10000.0       20.0    0.0                  10.5   \n",
       "ANOVA F-value          10000.0       20.0    0.0                  10.5   \n",
       "Mutual Info            10000.0       20.0    0.0                  10.5   \n",
       "Boruta                 10000.0       20.0    0.0                  10.5   \n",
       "MultiSURF              10000.0       20.0    NaN                   NaN   \n",
       "ReliefF                10000.0       20.0    NaN                   NaN   \n",
       "\n",
       "                     fit_time     score  bootstrap_state  \n",
       "ranker                                                    \n",
       "Infinite Selection   0.004600  0.818925              1.0  \n",
       "XGBoost              0.002998  0.818575              1.0  \n",
       "Decision Tree        0.002810  0.817675              1.0  \n",
       "Stability Selection  0.002406  0.803325              1.0  \n",
       "Chi-Squared          0.002548  0.795975              1.0  \n",
       "ANOVA F-value        0.003745  0.789275              1.0  \n",
       "Mutual Info          0.002314  0.786475              1.0  \n",
       "Boruta               0.002366  0.518075              1.0  \n",
       "MultiSURF                 NaN       NaN              NaN  \n",
       "ReliefF                   NaN       NaN              NaN  "
      ]
     },
     "execution_count": 25,
     "metadata": {},
     "output_type": "execute_result"
    }
   ],
   "source": [
    "validation_scores_with_experiment_info \\\n",
    "        .groupby(\"ranker\") \\\n",
    "        .mean(numeric_only=True) \\\n",
    "        .sort_values(\"score\", ascending=False)"
   ]
  },
  {
   "cell_type": "markdown",
   "metadata": {},
   "source": [
    "Already, we notice that MultiSURF and ReliefF are missing. This is because the experiments failed. That can happen in a big benchmark! We will ignore this for now and continue with the other Feature Selectors.\n",
    "\n",
    "👀 We can already observe, that the _average_ classification accuracy is the highest for Infinite Selection. Although it would be premature to say it is the best, this is an indication that it did will for this dataset.\n",
    "\n",
    "Let's plot the results _per_ `n_features_to_select`. Note, that `n_features_to_select` means a validation step was run using a feature subset of size `n_features_to_select`."
   ]
  },
  {
   "cell_type": "code",
   "execution_count": 18,
   "metadata": {},
   "outputs": [
    {
     "data": {
      "application/vnd.plotly.v1+json": {
       "config": {
        "plotlyServerURL": "https://plot.ly"
       },
       "data": [
        {
         "hovertemplate": "ranker=ReliefF<br>n_features_to_select=%{x}<br>score=%{y}<extra></extra>",
         "legendgroup": "ReliefF",
         "line": {
          "color": "#636efa",
          "dash": "solid"
         },
         "marker": {
          "symbol": "circle"
         },
         "mode": "lines",
         "name": "ReliefF",
         "orientation": "v",
         "showlegend": true,
         "type": "scatter",
         "x": [
          null
         ],
         "xaxis": "x",
         "y": [
          null
         ],
         "yaxis": "y"
        },
        {
         "hovertemplate": "ranker=Boruta<br>n_features_to_select=%{x}<br>score=%{y}<extra></extra>",
         "legendgroup": "Boruta",
         "line": {
          "color": "#EF553B",
          "dash": "solid"
         },
         "marker": {
          "symbol": "circle"
         },
         "mode": "lines",
         "name": "Boruta",
         "orientation": "v",
         "showlegend": true,
         "type": "scatter",
         "x": [
          1,
          2,
          3,
          4,
          5,
          6,
          7,
          8,
          9,
          10,
          11,
          12,
          13,
          14,
          15,
          16,
          17,
          18,
          19,
          20
         ],
         "xaxis": "x",
         "y": [
          0.4975,
          0.505,
          0.508,
          0.4845,
          0.504,
          0.503,
          0.5155,
          0.5035,
          0.4955,
          0.4985,
          0.5155,
          0.497,
          0.5085,
          0.5055,
          0.5265,
          0.511,
          0.5085,
          0.511,
          0.504,
          0.759
         ],
         "yaxis": "y"
        },
        {
         "hovertemplate": "ranker=Infinite Selection<br>n_features_to_select=%{x}<br>score=%{y}<extra></extra>",
         "legendgroup": "Infinite Selection",
         "line": {
          "color": "#00cc96",
          "dash": "solid"
         },
         "marker": {
          "symbol": "circle"
         },
         "mode": "lines",
         "name": "Infinite Selection",
         "orientation": "v",
         "showlegend": true,
         "type": "scatter",
         "x": [
          1,
          2,
          3,
          4,
          5,
          6,
          7,
          8,
          9,
          10,
          11,
          12,
          13,
          14,
          15,
          16,
          17,
          18,
          19,
          20
         ],
         "xaxis": "x",
         "y": [
          0.7955,
          0.9075,
          0.892,
          0.882,
          0.876,
          0.8605,
          0.8365,
          0.8345,
          0.826,
          0.8165,
          0.8105,
          0.802,
          0.797,
          0.7955,
          0.795,
          0.773,
          0.776,
          0.776,
          0.7675,
          0.759
         ],
         "yaxis": "y"
        },
        {
         "hovertemplate": "ranker=Chi-Squared<br>n_features_to_select=%{x}<br>score=%{y}<extra></extra>",
         "legendgroup": "Chi-Squared",
         "line": {
          "color": "#ab63fa",
          "dash": "solid"
         },
         "marker": {
          "symbol": "circle"
         },
         "mode": "lines",
         "name": "Chi-Squared",
         "orientation": "v",
         "showlegend": true,
         "type": "scatter",
         "x": [
          1,
          2,
          3,
          4,
          5,
          6,
          7,
          8,
          9,
          10,
          11,
          12,
          13,
          14,
          15,
          16,
          17,
          18,
          19,
          20
         ],
         "xaxis": "x",
         "y": [
          0.7955,
          0.791,
          0.795,
          0.7965,
          0.795,
          0.78,
          0.8425,
          0.829,
          0.8255,
          0.814,
          0.806,
          0.804,
          0.799,
          0.794,
          0.7875,
          0.7765,
          0.783,
          0.778,
          0.7685,
          0.759
         ],
         "yaxis": "y"
        },
        {
         "hovertemplate": "ranker=Mutual Info<br>n_features_to_select=%{x}<br>score=%{y}<extra></extra>",
         "legendgroup": "Mutual Info",
         "line": {
          "color": "#FFA15A",
          "dash": "solid"
         },
         "marker": {
          "symbol": "circle"
         },
         "mode": "lines",
         "name": "Mutual Info",
         "orientation": "v",
         "showlegend": true,
         "type": "scatter",
         "x": [
          1,
          2,
          3,
          4,
          5,
          6,
          7,
          8,
          9,
          10,
          11,
          12,
          13,
          14,
          15,
          16,
          17,
          18,
          19,
          20
         ],
         "xaxis": "x",
         "y": [
          0.7955,
          0.798,
          0.7955,
          0.791,
          0.7895,
          0.798,
          0.786,
          0.7905,
          0.791,
          0.7925,
          0.782,
          0.782,
          0.7815,
          0.7815,
          0.8025,
          0.7905,
          0.7815,
          0.7755,
          0.766,
          0.759
         ],
         "yaxis": "y"
        },
        {
         "hovertemplate": "ranker=ANOVA F-value<br>n_features_to_select=%{x}<br>score=%{y}<extra></extra>",
         "legendgroup": "ANOVA F-value",
         "line": {
          "color": "#19d3f3",
          "dash": "solid"
         },
         "marker": {
          "symbol": "circle"
         },
         "mode": "lines",
         "name": "ANOVA F-value",
         "orientation": "v",
         "showlegend": true,
         "type": "scatter",
         "x": [
          1,
          2,
          3,
          4,
          5,
          6,
          7,
          8,
          9,
          10,
          11,
          12,
          13,
          14,
          15,
          16,
          17,
          18,
          19,
          20
         ],
         "xaxis": "x",
         "y": [
          0.7955,
          0.791,
          0.795,
          0.7965,
          0.795,
          0.78,
          0.7885,
          0.787,
          0.78,
          0.814,
          0.811,
          0.804,
          0.8015,
          0.794,
          0.7875,
          0.7765,
          0.783,
          0.778,
          0.7685,
          0.759
         ],
         "yaxis": "y"
        },
        {
         "hovertemplate": "ranker=Stability Selection<br>n_features_to_select=%{x}<br>score=%{y}<extra></extra>",
         "legendgroup": "Stability Selection",
         "line": {
          "color": "#FF6692",
          "dash": "solid"
         },
         "marker": {
          "symbol": "circle"
         },
         "mode": "lines",
         "name": "Stability Selection",
         "orientation": "v",
         "showlegend": true,
         "type": "scatter",
         "x": [
          1,
          2,
          3,
          4,
          5,
          6,
          7,
          8,
          9,
          10,
          11,
          12,
          13,
          14,
          15,
          16,
          17,
          18,
          19,
          20
         ],
         "xaxis": "x",
         "y": [
          0.491,
          0.9075,
          0.898,
          0.882,
          0.869,
          0.855,
          0.858,
          0.839,
          0.827,
          0.8235,
          0.8025,
          0.8015,
          0.7985,
          0.793,
          0.781,
          0.772,
          0.7675,
          0.7755,
          0.766,
          0.759
         ],
         "yaxis": "y"
        },
        {
         "hovertemplate": "ranker=MultiSURF<br>n_features_to_select=%{x}<br>score=%{y}<extra></extra>",
         "legendgroup": "MultiSURF",
         "line": {
          "color": "#B6E880",
          "dash": "solid"
         },
         "marker": {
          "symbol": "circle"
         },
         "mode": "lines",
         "name": "MultiSURF",
         "orientation": "v",
         "showlegend": true,
         "type": "scatter",
         "x": [
          null
         ],
         "xaxis": "x",
         "y": [
          null
         ],
         "yaxis": "y"
        },
        {
         "hovertemplate": "ranker=Decision Tree<br>n_features_to_select=%{x}<br>score=%{y}<extra></extra>",
         "legendgroup": "Decision Tree",
         "line": {
          "color": "#FF97FF",
          "dash": "solid"
         },
         "marker": {
          "symbol": "circle"
         },
         "mode": "lines",
         "name": "Decision Tree",
         "orientation": "v",
         "showlegend": true,
         "type": "scatter",
         "x": [
          1,
          2,
          3,
          4,
          5,
          6,
          7,
          8,
          9,
          10,
          11,
          12,
          13,
          14,
          15,
          16,
          17,
          18,
          19,
          20
         ],
         "xaxis": "x",
         "y": [
          0.7955,
          0.9075,
          0.892,
          0.888,
          0.8715,
          0.8575,
          0.85,
          0.826,
          0.8185,
          0.809,
          0.806,
          0.7965,
          0.786,
          0.7935,
          0.788,
          0.773,
          0.789,
          0.778,
          0.769,
          0.759
         ],
         "yaxis": "y"
        },
        {
         "hovertemplate": "ranker=XGBoost<br>n_features_to_select=%{x}<br>score=%{y}<extra></extra>",
         "legendgroup": "XGBoost",
         "line": {
          "color": "#FECB52",
          "dash": "solid"
         },
         "marker": {
          "symbol": "circle"
         },
         "mode": "lines",
         "name": "XGBoost",
         "orientation": "v",
         "showlegend": true,
         "type": "scatter",
         "x": [
          1,
          2,
          3,
          4,
          5,
          6,
          7,
          8,
          9,
          10,
          11,
          12,
          13,
          14,
          15,
          16,
          17,
          18,
          19,
          20
         ],
         "xaxis": "x",
         "y": [
          0.7955,
          0.9075,
          0.8975,
          0.886,
          0.879,
          0.8535,
          0.8455,
          0.83,
          0.818,
          0.8155,
          0.8055,
          0.801,
          0.8,
          0.796,
          0.788,
          0.7805,
          0.7725,
          0.776,
          0.765,
          0.759
         ],
         "yaxis": "y"
        }
       ],
       "layout": {
        "legend": {
         "title": {
          "text": "ranker"
         },
         "tracegroupgap": 0
        },
        "margin": {
         "t": 60
        },
        "template": {
         "data": {
          "bar": [
           {
            "error_x": {
             "color": "#2a3f5f"
            },
            "error_y": {
             "color": "#2a3f5f"
            },
            "marker": {
             "line": {
              "color": "#E5ECF6",
              "width": 0.5
             },
             "pattern": {
              "fillmode": "overlay",
              "size": 10,
              "solidity": 0.2
             }
            },
            "type": "bar"
           }
          ],
          "barpolar": [
           {
            "marker": {
             "line": {
              "color": "#E5ECF6",
              "width": 0.5
             },
             "pattern": {
              "fillmode": "overlay",
              "size": 10,
              "solidity": 0.2
             }
            },
            "type": "barpolar"
           }
          ],
          "carpet": [
           {
            "aaxis": {
             "endlinecolor": "#2a3f5f",
             "gridcolor": "white",
             "linecolor": "white",
             "minorgridcolor": "white",
             "startlinecolor": "#2a3f5f"
            },
            "baxis": {
             "endlinecolor": "#2a3f5f",
             "gridcolor": "white",
             "linecolor": "white",
             "minorgridcolor": "white",
             "startlinecolor": "#2a3f5f"
            },
            "type": "carpet"
           }
          ],
          "choropleth": [
           {
            "colorbar": {
             "outlinewidth": 0,
             "ticks": ""
            },
            "type": "choropleth"
           }
          ],
          "contour": [
           {
            "colorbar": {
             "outlinewidth": 0,
             "ticks": ""
            },
            "colorscale": [
             [
              0,
              "#0d0887"
             ],
             [
              0.1111111111111111,
              "#46039f"
             ],
             [
              0.2222222222222222,
              "#7201a8"
             ],
             [
              0.3333333333333333,
              "#9c179e"
             ],
             [
              0.4444444444444444,
              "#bd3786"
             ],
             [
              0.5555555555555556,
              "#d8576b"
             ],
             [
              0.6666666666666666,
              "#ed7953"
             ],
             [
              0.7777777777777778,
              "#fb9f3a"
             ],
             [
              0.8888888888888888,
              "#fdca26"
             ],
             [
              1,
              "#f0f921"
             ]
            ],
            "type": "contour"
           }
          ],
          "contourcarpet": [
           {
            "colorbar": {
             "outlinewidth": 0,
             "ticks": ""
            },
            "type": "contourcarpet"
           }
          ],
          "heatmap": [
           {
            "colorbar": {
             "outlinewidth": 0,
             "ticks": ""
            },
            "colorscale": [
             [
              0,
              "#0d0887"
             ],
             [
              0.1111111111111111,
              "#46039f"
             ],
             [
              0.2222222222222222,
              "#7201a8"
             ],
             [
              0.3333333333333333,
              "#9c179e"
             ],
             [
              0.4444444444444444,
              "#bd3786"
             ],
             [
              0.5555555555555556,
              "#d8576b"
             ],
             [
              0.6666666666666666,
              "#ed7953"
             ],
             [
              0.7777777777777778,
              "#fb9f3a"
             ],
             [
              0.8888888888888888,
              "#fdca26"
             ],
             [
              1,
              "#f0f921"
             ]
            ],
            "type": "heatmap"
           }
          ],
          "heatmapgl": [
           {
            "colorbar": {
             "outlinewidth": 0,
             "ticks": ""
            },
            "colorscale": [
             [
              0,
              "#0d0887"
             ],
             [
              0.1111111111111111,
              "#46039f"
             ],
             [
              0.2222222222222222,
              "#7201a8"
             ],
             [
              0.3333333333333333,
              "#9c179e"
             ],
             [
              0.4444444444444444,
              "#bd3786"
             ],
             [
              0.5555555555555556,
              "#d8576b"
             ],
             [
              0.6666666666666666,
              "#ed7953"
             ],
             [
              0.7777777777777778,
              "#fb9f3a"
             ],
             [
              0.8888888888888888,
              "#fdca26"
             ],
             [
              1,
              "#f0f921"
             ]
            ],
            "type": "heatmapgl"
           }
          ],
          "histogram": [
           {
            "marker": {
             "pattern": {
              "fillmode": "overlay",
              "size": 10,
              "solidity": 0.2
             }
            },
            "type": "histogram"
           }
          ],
          "histogram2d": [
           {
            "colorbar": {
             "outlinewidth": 0,
             "ticks": ""
            },
            "colorscale": [
             [
              0,
              "#0d0887"
             ],
             [
              0.1111111111111111,
              "#46039f"
             ],
             [
              0.2222222222222222,
              "#7201a8"
             ],
             [
              0.3333333333333333,
              "#9c179e"
             ],
             [
              0.4444444444444444,
              "#bd3786"
             ],
             [
              0.5555555555555556,
              "#d8576b"
             ],
             [
              0.6666666666666666,
              "#ed7953"
             ],
             [
              0.7777777777777778,
              "#fb9f3a"
             ],
             [
              0.8888888888888888,
              "#fdca26"
             ],
             [
              1,
              "#f0f921"
             ]
            ],
            "type": "histogram2d"
           }
          ],
          "histogram2dcontour": [
           {
            "colorbar": {
             "outlinewidth": 0,
             "ticks": ""
            },
            "colorscale": [
             [
              0,
              "#0d0887"
             ],
             [
              0.1111111111111111,
              "#46039f"
             ],
             [
              0.2222222222222222,
              "#7201a8"
             ],
             [
              0.3333333333333333,
              "#9c179e"
             ],
             [
              0.4444444444444444,
              "#bd3786"
             ],
             [
              0.5555555555555556,
              "#d8576b"
             ],
             [
              0.6666666666666666,
              "#ed7953"
             ],
             [
              0.7777777777777778,
              "#fb9f3a"
             ],
             [
              0.8888888888888888,
              "#fdca26"
             ],
             [
              1,
              "#f0f921"
             ]
            ],
            "type": "histogram2dcontour"
           }
          ],
          "mesh3d": [
           {
            "colorbar": {
             "outlinewidth": 0,
             "ticks": ""
            },
            "type": "mesh3d"
           }
          ],
          "parcoords": [
           {
            "line": {
             "colorbar": {
              "outlinewidth": 0,
              "ticks": ""
             }
            },
            "type": "parcoords"
           }
          ],
          "pie": [
           {
            "automargin": true,
            "type": "pie"
           }
          ],
          "scatter": [
           {
            "fillpattern": {
             "fillmode": "overlay",
             "size": 10,
             "solidity": 0.2
            },
            "type": "scatter"
           }
          ],
          "scatter3d": [
           {
            "line": {
             "colorbar": {
              "outlinewidth": 0,
              "ticks": ""
             }
            },
            "marker": {
             "colorbar": {
              "outlinewidth": 0,
              "ticks": ""
             }
            },
            "type": "scatter3d"
           }
          ],
          "scattercarpet": [
           {
            "marker": {
             "colorbar": {
              "outlinewidth": 0,
              "ticks": ""
             }
            },
            "type": "scattercarpet"
           }
          ],
          "scattergeo": [
           {
            "marker": {
             "colorbar": {
              "outlinewidth": 0,
              "ticks": ""
             }
            },
            "type": "scattergeo"
           }
          ],
          "scattergl": [
           {
            "marker": {
             "colorbar": {
              "outlinewidth": 0,
              "ticks": ""
             }
            },
            "type": "scattergl"
           }
          ],
          "scattermapbox": [
           {
            "marker": {
             "colorbar": {
              "outlinewidth": 0,
              "ticks": ""
             }
            },
            "type": "scattermapbox"
           }
          ],
          "scatterpolar": [
           {
            "marker": {
             "colorbar": {
              "outlinewidth": 0,
              "ticks": ""
             }
            },
            "type": "scatterpolar"
           }
          ],
          "scatterpolargl": [
           {
            "marker": {
             "colorbar": {
              "outlinewidth": 0,
              "ticks": ""
             }
            },
            "type": "scatterpolargl"
           }
          ],
          "scatterternary": [
           {
            "marker": {
             "colorbar": {
              "outlinewidth": 0,
              "ticks": ""
             }
            },
            "type": "scatterternary"
           }
          ],
          "surface": [
           {
            "colorbar": {
             "outlinewidth": 0,
             "ticks": ""
            },
            "colorscale": [
             [
              0,
              "#0d0887"
             ],
             [
              0.1111111111111111,
              "#46039f"
             ],
             [
              0.2222222222222222,
              "#7201a8"
             ],
             [
              0.3333333333333333,
              "#9c179e"
             ],
             [
              0.4444444444444444,
              "#bd3786"
             ],
             [
              0.5555555555555556,
              "#d8576b"
             ],
             [
              0.6666666666666666,
              "#ed7953"
             ],
             [
              0.7777777777777778,
              "#fb9f3a"
             ],
             [
              0.8888888888888888,
              "#fdca26"
             ],
             [
              1,
              "#f0f921"
             ]
            ],
            "type": "surface"
           }
          ],
          "table": [
           {
            "cells": {
             "fill": {
              "color": "#EBF0F8"
             },
             "line": {
              "color": "white"
             }
            },
            "header": {
             "fill": {
              "color": "#C8D4E3"
             },
             "line": {
              "color": "white"
             }
            },
            "type": "table"
           }
          ]
         },
         "layout": {
          "annotationdefaults": {
           "arrowcolor": "#2a3f5f",
           "arrowhead": 0,
           "arrowwidth": 1
          },
          "autotypenumbers": "strict",
          "coloraxis": {
           "colorbar": {
            "outlinewidth": 0,
            "ticks": ""
           }
          },
          "colorscale": {
           "diverging": [
            [
             0,
             "#8e0152"
            ],
            [
             0.1,
             "#c51b7d"
            ],
            [
             0.2,
             "#de77ae"
            ],
            [
             0.3,
             "#f1b6da"
            ],
            [
             0.4,
             "#fde0ef"
            ],
            [
             0.5,
             "#f7f7f7"
            ],
            [
             0.6,
             "#e6f5d0"
            ],
            [
             0.7,
             "#b8e186"
            ],
            [
             0.8,
             "#7fbc41"
            ],
            [
             0.9,
             "#4d9221"
            ],
            [
             1,
             "#276419"
            ]
           ],
           "sequential": [
            [
             0,
             "#0d0887"
            ],
            [
             0.1111111111111111,
             "#46039f"
            ],
            [
             0.2222222222222222,
             "#7201a8"
            ],
            [
             0.3333333333333333,
             "#9c179e"
            ],
            [
             0.4444444444444444,
             "#bd3786"
            ],
            [
             0.5555555555555556,
             "#d8576b"
            ],
            [
             0.6666666666666666,
             "#ed7953"
            ],
            [
             0.7777777777777778,
             "#fb9f3a"
            ],
            [
             0.8888888888888888,
             "#fdca26"
            ],
            [
             1,
             "#f0f921"
            ]
           ],
           "sequentialminus": [
            [
             0,
             "#0d0887"
            ],
            [
             0.1111111111111111,
             "#46039f"
            ],
            [
             0.2222222222222222,
             "#7201a8"
            ],
            [
             0.3333333333333333,
             "#9c179e"
            ],
            [
             0.4444444444444444,
             "#bd3786"
            ],
            [
             0.5555555555555556,
             "#d8576b"
            ],
            [
             0.6666666666666666,
             "#ed7953"
            ],
            [
             0.7777777777777778,
             "#fb9f3a"
            ],
            [
             0.8888888888888888,
             "#fdca26"
            ],
            [
             1,
             "#f0f921"
            ]
           ]
          },
          "colorway": [
           "#636efa",
           "#EF553B",
           "#00cc96",
           "#ab63fa",
           "#FFA15A",
           "#19d3f3",
           "#FF6692",
           "#B6E880",
           "#FF97FF",
           "#FECB52"
          ],
          "font": {
           "color": "#2a3f5f"
          },
          "geo": {
           "bgcolor": "white",
           "lakecolor": "white",
           "landcolor": "#E5ECF6",
           "showlakes": true,
           "showland": true,
           "subunitcolor": "white"
          },
          "hoverlabel": {
           "align": "left"
          },
          "hovermode": "closest",
          "mapbox": {
           "style": "light"
          },
          "paper_bgcolor": "white",
          "plot_bgcolor": "#E5ECF6",
          "polar": {
           "angularaxis": {
            "gridcolor": "white",
            "linecolor": "white",
            "ticks": ""
           },
           "bgcolor": "#E5ECF6",
           "radialaxis": {
            "gridcolor": "white",
            "linecolor": "white",
            "ticks": ""
           }
          },
          "scene": {
           "xaxis": {
            "backgroundcolor": "#E5ECF6",
            "gridcolor": "white",
            "gridwidth": 2,
            "linecolor": "white",
            "showbackground": true,
            "ticks": "",
            "zerolinecolor": "white"
           },
           "yaxis": {
            "backgroundcolor": "#E5ECF6",
            "gridcolor": "white",
            "gridwidth": 2,
            "linecolor": "white",
            "showbackground": true,
            "ticks": "",
            "zerolinecolor": "white"
           },
           "zaxis": {
            "backgroundcolor": "#E5ECF6",
            "gridcolor": "white",
            "gridwidth": 2,
            "linecolor": "white",
            "showbackground": true,
            "ticks": "",
            "zerolinecolor": "white"
           }
          },
          "shapedefaults": {
           "line": {
            "color": "#2a3f5f"
           }
          },
          "ternary": {
           "aaxis": {
            "gridcolor": "white",
            "linecolor": "white",
            "ticks": ""
           },
           "baxis": {
            "gridcolor": "white",
            "linecolor": "white",
            "ticks": ""
           },
           "bgcolor": "#E5ECF6",
           "caxis": {
            "gridcolor": "white",
            "linecolor": "white",
            "ticks": ""
           }
          },
          "title": {
           "x": 0.05
          },
          "xaxis": {
           "automargin": true,
           "gridcolor": "white",
           "linecolor": "white",
           "ticks": "",
           "title": {
            "standoff": 15
           },
           "zerolinecolor": "white",
           "zerolinewidth": 2
          },
          "yaxis": {
           "automargin": true,
           "gridcolor": "white",
           "linecolor": "white",
           "ticks": "",
           "title": {
            "standoff": 15
           },
           "zerolinecolor": "white",
           "zerolinewidth": 2
          }
         }
        },
        "xaxis": {
         "anchor": "y",
         "domain": [
          0,
          1
         ],
         "title": {
          "text": "n_features_to_select"
         }
        },
        "yaxis": {
         "anchor": "x",
         "domain": [
          0,
          1
         ],
         "title": {
          "text": "score"
         }
        }
       }
      },
      "text/html": [
       "<div>                            <div id=\"6199abb0-02fa-40b5-89eb-3f3a7ceaacad\" class=\"plotly-graph-div\" style=\"height:525px; width:100%;\"></div>            <script type=\"text/javascript\">                require([\"plotly\"], function(Plotly) {                    window.PLOTLYENV=window.PLOTLYENV || {};                                    if (document.getElementById(\"6199abb0-02fa-40b5-89eb-3f3a7ceaacad\")) {                    Plotly.newPlot(                        \"6199abb0-02fa-40b5-89eb-3f3a7ceaacad\",                        [{\"hovertemplate\":\"ranker=ReliefF<br>n_features_to_select=%{x}<br>score=%{y}<extra></extra>\",\"legendgroup\":\"ReliefF\",\"line\":{\"color\":\"#636efa\",\"dash\":\"solid\"},\"marker\":{\"symbol\":\"circle\"},\"mode\":\"lines\",\"name\":\"ReliefF\",\"orientation\":\"v\",\"showlegend\":true,\"x\":[null],\"xaxis\":\"x\",\"y\":[null],\"yaxis\":\"y\",\"type\":\"scatter\"},{\"hovertemplate\":\"ranker=Boruta<br>n_features_to_select=%{x}<br>score=%{y}<extra></extra>\",\"legendgroup\":\"Boruta\",\"line\":{\"color\":\"#EF553B\",\"dash\":\"solid\"},\"marker\":{\"symbol\":\"circle\"},\"mode\":\"lines\",\"name\":\"Boruta\",\"orientation\":\"v\",\"showlegend\":true,\"x\":[1.0,2.0,3.0,4.0,5.0,6.0,7.0,8.0,9.0,10.0,11.0,12.0,13.0,14.0,15.0,16.0,17.0,18.0,19.0,20.0],\"xaxis\":\"x\",\"y\":[0.4975,0.505,0.508,0.4845,0.504,0.503,0.5155,0.5035,0.4955,0.4985,0.5155,0.497,0.5085,0.5055,0.5265,0.511,0.5085,0.511,0.504,0.759],\"yaxis\":\"y\",\"type\":\"scatter\"},{\"hovertemplate\":\"ranker=Infinite Selection<br>n_features_to_select=%{x}<br>score=%{y}<extra></extra>\",\"legendgroup\":\"Infinite Selection\",\"line\":{\"color\":\"#00cc96\",\"dash\":\"solid\"},\"marker\":{\"symbol\":\"circle\"},\"mode\":\"lines\",\"name\":\"Infinite Selection\",\"orientation\":\"v\",\"showlegend\":true,\"x\":[1.0,2.0,3.0,4.0,5.0,6.0,7.0,8.0,9.0,10.0,11.0,12.0,13.0,14.0,15.0,16.0,17.0,18.0,19.0,20.0],\"xaxis\":\"x\",\"y\":[0.7955,0.9075,0.892,0.882,0.876,0.8605,0.8365,0.8345,0.826,0.8165,0.8105,0.802,0.797,0.7955,0.795,0.773,0.776,0.776,0.7675,0.759],\"yaxis\":\"y\",\"type\":\"scatter\"},{\"hovertemplate\":\"ranker=Chi-Squared<br>n_features_to_select=%{x}<br>score=%{y}<extra></extra>\",\"legendgroup\":\"Chi-Squared\",\"line\":{\"color\":\"#ab63fa\",\"dash\":\"solid\"},\"marker\":{\"symbol\":\"circle\"},\"mode\":\"lines\",\"name\":\"Chi-Squared\",\"orientation\":\"v\",\"showlegend\":true,\"x\":[1.0,2.0,3.0,4.0,5.0,6.0,7.0,8.0,9.0,10.0,11.0,12.0,13.0,14.0,15.0,16.0,17.0,18.0,19.0,20.0],\"xaxis\":\"x\",\"y\":[0.7955,0.791,0.795,0.7965,0.795,0.78,0.8425,0.829,0.8255,0.814,0.806,0.804,0.799,0.794,0.7875,0.7765,0.783,0.778,0.7685,0.759],\"yaxis\":\"y\",\"type\":\"scatter\"},{\"hovertemplate\":\"ranker=Mutual Info<br>n_features_to_select=%{x}<br>score=%{y}<extra></extra>\",\"legendgroup\":\"Mutual Info\",\"line\":{\"color\":\"#FFA15A\",\"dash\":\"solid\"},\"marker\":{\"symbol\":\"circle\"},\"mode\":\"lines\",\"name\":\"Mutual Info\",\"orientation\":\"v\",\"showlegend\":true,\"x\":[1.0,2.0,3.0,4.0,5.0,6.0,7.0,8.0,9.0,10.0,11.0,12.0,13.0,14.0,15.0,16.0,17.0,18.0,19.0,20.0],\"xaxis\":\"x\",\"y\":[0.7955,0.798,0.7955,0.791,0.7895,0.798,0.786,0.7905,0.791,0.7925,0.782,0.782,0.7815,0.7815,0.8025,0.7905,0.7815,0.7755,0.766,0.759],\"yaxis\":\"y\",\"type\":\"scatter\"},{\"hovertemplate\":\"ranker=ANOVA F-value<br>n_features_to_select=%{x}<br>score=%{y}<extra></extra>\",\"legendgroup\":\"ANOVA F-value\",\"line\":{\"color\":\"#19d3f3\",\"dash\":\"solid\"},\"marker\":{\"symbol\":\"circle\"},\"mode\":\"lines\",\"name\":\"ANOVA F-value\",\"orientation\":\"v\",\"showlegend\":true,\"x\":[1.0,2.0,3.0,4.0,5.0,6.0,7.0,8.0,9.0,10.0,11.0,12.0,13.0,14.0,15.0,16.0,17.0,18.0,19.0,20.0],\"xaxis\":\"x\",\"y\":[0.7955,0.791,0.795,0.7965,0.795,0.78,0.7885,0.787,0.78,0.814,0.811,0.804,0.8015,0.794,0.7875,0.7765,0.783,0.778,0.7685,0.759],\"yaxis\":\"y\",\"type\":\"scatter\"},{\"hovertemplate\":\"ranker=Stability Selection<br>n_features_to_select=%{x}<br>score=%{y}<extra></extra>\",\"legendgroup\":\"Stability Selection\",\"line\":{\"color\":\"#FF6692\",\"dash\":\"solid\"},\"marker\":{\"symbol\":\"circle\"},\"mode\":\"lines\",\"name\":\"Stability Selection\",\"orientation\":\"v\",\"showlegend\":true,\"x\":[1.0,2.0,3.0,4.0,5.0,6.0,7.0,8.0,9.0,10.0,11.0,12.0,13.0,14.0,15.0,16.0,17.0,18.0,19.0,20.0],\"xaxis\":\"x\",\"y\":[0.491,0.9075,0.898,0.882,0.869,0.855,0.858,0.839,0.827,0.8235,0.8025,0.8015,0.7985,0.793,0.781,0.772,0.7675,0.7755,0.766,0.759],\"yaxis\":\"y\",\"type\":\"scatter\"},{\"hovertemplate\":\"ranker=MultiSURF<br>n_features_to_select=%{x}<br>score=%{y}<extra></extra>\",\"legendgroup\":\"MultiSURF\",\"line\":{\"color\":\"#B6E880\",\"dash\":\"solid\"},\"marker\":{\"symbol\":\"circle\"},\"mode\":\"lines\",\"name\":\"MultiSURF\",\"orientation\":\"v\",\"showlegend\":true,\"x\":[null],\"xaxis\":\"x\",\"y\":[null],\"yaxis\":\"y\",\"type\":\"scatter\"},{\"hovertemplate\":\"ranker=Decision Tree<br>n_features_to_select=%{x}<br>score=%{y}<extra></extra>\",\"legendgroup\":\"Decision Tree\",\"line\":{\"color\":\"#FF97FF\",\"dash\":\"solid\"},\"marker\":{\"symbol\":\"circle\"},\"mode\":\"lines\",\"name\":\"Decision Tree\",\"orientation\":\"v\",\"showlegend\":true,\"x\":[1.0,2.0,3.0,4.0,5.0,6.0,7.0,8.0,9.0,10.0,11.0,12.0,13.0,14.0,15.0,16.0,17.0,18.0,19.0,20.0],\"xaxis\":\"x\",\"y\":[0.7955,0.9075,0.892,0.888,0.8715,0.8575,0.85,0.826,0.8185,0.809,0.806,0.7965,0.786,0.7935,0.788,0.773,0.789,0.778,0.769,0.759],\"yaxis\":\"y\",\"type\":\"scatter\"},{\"hovertemplate\":\"ranker=XGBoost<br>n_features_to_select=%{x}<br>score=%{y}<extra></extra>\",\"legendgroup\":\"XGBoost\",\"line\":{\"color\":\"#FECB52\",\"dash\":\"solid\"},\"marker\":{\"symbol\":\"circle\"},\"mode\":\"lines\",\"name\":\"XGBoost\",\"orientation\":\"v\",\"showlegend\":true,\"x\":[1.0,2.0,3.0,4.0,5.0,6.0,7.0,8.0,9.0,10.0,11.0,12.0,13.0,14.0,15.0,16.0,17.0,18.0,19.0,20.0],\"xaxis\":\"x\",\"y\":[0.7955,0.9075,0.8975,0.886,0.879,0.8535,0.8455,0.83,0.818,0.8155,0.8055,0.801,0.8,0.796,0.788,0.7805,0.7725,0.776,0.765,0.759],\"yaxis\":\"y\",\"type\":\"scatter\"}],                        {\"template\":{\"data\":{\"histogram2dcontour\":[{\"type\":\"histogram2dcontour\",\"colorbar\":{\"outlinewidth\":0,\"ticks\":\"\"},\"colorscale\":[[0.0,\"#0d0887\"],[0.1111111111111111,\"#46039f\"],[0.2222222222222222,\"#7201a8\"],[0.3333333333333333,\"#9c179e\"],[0.4444444444444444,\"#bd3786\"],[0.5555555555555556,\"#d8576b\"],[0.6666666666666666,\"#ed7953\"],[0.7777777777777778,\"#fb9f3a\"],[0.8888888888888888,\"#fdca26\"],[1.0,\"#f0f921\"]]}],\"choropleth\":[{\"type\":\"choropleth\",\"colorbar\":{\"outlinewidth\":0,\"ticks\":\"\"}}],\"histogram2d\":[{\"type\":\"histogram2d\",\"colorbar\":{\"outlinewidth\":0,\"ticks\":\"\"},\"colorscale\":[[0.0,\"#0d0887\"],[0.1111111111111111,\"#46039f\"],[0.2222222222222222,\"#7201a8\"],[0.3333333333333333,\"#9c179e\"],[0.4444444444444444,\"#bd3786\"],[0.5555555555555556,\"#d8576b\"],[0.6666666666666666,\"#ed7953\"],[0.7777777777777778,\"#fb9f3a\"],[0.8888888888888888,\"#fdca26\"],[1.0,\"#f0f921\"]]}],\"heatmap\":[{\"type\":\"heatmap\",\"colorbar\":{\"outlinewidth\":0,\"ticks\":\"\"},\"colorscale\":[[0.0,\"#0d0887\"],[0.1111111111111111,\"#46039f\"],[0.2222222222222222,\"#7201a8\"],[0.3333333333333333,\"#9c179e\"],[0.4444444444444444,\"#bd3786\"],[0.5555555555555556,\"#d8576b\"],[0.6666666666666666,\"#ed7953\"],[0.7777777777777778,\"#fb9f3a\"],[0.8888888888888888,\"#fdca26\"],[1.0,\"#f0f921\"]]}],\"heatmapgl\":[{\"type\":\"heatmapgl\",\"colorbar\":{\"outlinewidth\":0,\"ticks\":\"\"},\"colorscale\":[[0.0,\"#0d0887\"],[0.1111111111111111,\"#46039f\"],[0.2222222222222222,\"#7201a8\"],[0.3333333333333333,\"#9c179e\"],[0.4444444444444444,\"#bd3786\"],[0.5555555555555556,\"#d8576b\"],[0.6666666666666666,\"#ed7953\"],[0.7777777777777778,\"#fb9f3a\"],[0.8888888888888888,\"#fdca26\"],[1.0,\"#f0f921\"]]}],\"contourcarpet\":[{\"type\":\"contourcarpet\",\"colorbar\":{\"outlinewidth\":0,\"ticks\":\"\"}}],\"contour\":[{\"type\":\"contour\",\"colorbar\":{\"outlinewidth\":0,\"ticks\":\"\"},\"colorscale\":[[0.0,\"#0d0887\"],[0.1111111111111111,\"#46039f\"],[0.2222222222222222,\"#7201a8\"],[0.3333333333333333,\"#9c179e\"],[0.4444444444444444,\"#bd3786\"],[0.5555555555555556,\"#d8576b\"],[0.6666666666666666,\"#ed7953\"],[0.7777777777777778,\"#fb9f3a\"],[0.8888888888888888,\"#fdca26\"],[1.0,\"#f0f921\"]]}],\"surface\":[{\"type\":\"surface\",\"colorbar\":{\"outlinewidth\":0,\"ticks\":\"\"},\"colorscale\":[[0.0,\"#0d0887\"],[0.1111111111111111,\"#46039f\"],[0.2222222222222222,\"#7201a8\"],[0.3333333333333333,\"#9c179e\"],[0.4444444444444444,\"#bd3786\"],[0.5555555555555556,\"#d8576b\"],[0.6666666666666666,\"#ed7953\"],[0.7777777777777778,\"#fb9f3a\"],[0.8888888888888888,\"#fdca26\"],[1.0,\"#f0f921\"]]}],\"mesh3d\":[{\"type\":\"mesh3d\",\"colorbar\":{\"outlinewidth\":0,\"ticks\":\"\"}}],\"scatter\":[{\"fillpattern\":{\"fillmode\":\"overlay\",\"size\":10,\"solidity\":0.2},\"type\":\"scatter\"}],\"parcoords\":[{\"type\":\"parcoords\",\"line\":{\"colorbar\":{\"outlinewidth\":0,\"ticks\":\"\"}}}],\"scatterpolargl\":[{\"type\":\"scatterpolargl\",\"marker\":{\"colorbar\":{\"outlinewidth\":0,\"ticks\":\"\"}}}],\"bar\":[{\"error_x\":{\"color\":\"#2a3f5f\"},\"error_y\":{\"color\":\"#2a3f5f\"},\"marker\":{\"line\":{\"color\":\"#E5ECF6\",\"width\":0.5},\"pattern\":{\"fillmode\":\"overlay\",\"size\":10,\"solidity\":0.2}},\"type\":\"bar\"}],\"scattergeo\":[{\"type\":\"scattergeo\",\"marker\":{\"colorbar\":{\"outlinewidth\":0,\"ticks\":\"\"}}}],\"scatterpolar\":[{\"type\":\"scatterpolar\",\"marker\":{\"colorbar\":{\"outlinewidth\":0,\"ticks\":\"\"}}}],\"histogram\":[{\"marker\":{\"pattern\":{\"fillmode\":\"overlay\",\"size\":10,\"solidity\":0.2}},\"type\":\"histogram\"}],\"scattergl\":[{\"type\":\"scattergl\",\"marker\":{\"colorbar\":{\"outlinewidth\":0,\"ticks\":\"\"}}}],\"scatter3d\":[{\"type\":\"scatter3d\",\"line\":{\"colorbar\":{\"outlinewidth\":0,\"ticks\":\"\"}},\"marker\":{\"colorbar\":{\"outlinewidth\":0,\"ticks\":\"\"}}}],\"scattermapbox\":[{\"type\":\"scattermapbox\",\"marker\":{\"colorbar\":{\"outlinewidth\":0,\"ticks\":\"\"}}}],\"scatterternary\":[{\"type\":\"scatterternary\",\"marker\":{\"colorbar\":{\"outlinewidth\":0,\"ticks\":\"\"}}}],\"scattercarpet\":[{\"type\":\"scattercarpet\",\"marker\":{\"colorbar\":{\"outlinewidth\":0,\"ticks\":\"\"}}}],\"carpet\":[{\"aaxis\":{\"endlinecolor\":\"#2a3f5f\",\"gridcolor\":\"white\",\"linecolor\":\"white\",\"minorgridcolor\":\"white\",\"startlinecolor\":\"#2a3f5f\"},\"baxis\":{\"endlinecolor\":\"#2a3f5f\",\"gridcolor\":\"white\",\"linecolor\":\"white\",\"minorgridcolor\":\"white\",\"startlinecolor\":\"#2a3f5f\"},\"type\":\"carpet\"}],\"table\":[{\"cells\":{\"fill\":{\"color\":\"#EBF0F8\"},\"line\":{\"color\":\"white\"}},\"header\":{\"fill\":{\"color\":\"#C8D4E3\"},\"line\":{\"color\":\"white\"}},\"type\":\"table\"}],\"barpolar\":[{\"marker\":{\"line\":{\"color\":\"#E5ECF6\",\"width\":0.5},\"pattern\":{\"fillmode\":\"overlay\",\"size\":10,\"solidity\":0.2}},\"type\":\"barpolar\"}],\"pie\":[{\"automargin\":true,\"type\":\"pie\"}]},\"layout\":{\"autotypenumbers\":\"strict\",\"colorway\":[\"#636efa\",\"#EF553B\",\"#00cc96\",\"#ab63fa\",\"#FFA15A\",\"#19d3f3\",\"#FF6692\",\"#B6E880\",\"#FF97FF\",\"#FECB52\"],\"font\":{\"color\":\"#2a3f5f\"},\"hovermode\":\"closest\",\"hoverlabel\":{\"align\":\"left\"},\"paper_bgcolor\":\"white\",\"plot_bgcolor\":\"#E5ECF6\",\"polar\":{\"bgcolor\":\"#E5ECF6\",\"angularaxis\":{\"gridcolor\":\"white\",\"linecolor\":\"white\",\"ticks\":\"\"},\"radialaxis\":{\"gridcolor\":\"white\",\"linecolor\":\"white\",\"ticks\":\"\"}},\"ternary\":{\"bgcolor\":\"#E5ECF6\",\"aaxis\":{\"gridcolor\":\"white\",\"linecolor\":\"white\",\"ticks\":\"\"},\"baxis\":{\"gridcolor\":\"white\",\"linecolor\":\"white\",\"ticks\":\"\"},\"caxis\":{\"gridcolor\":\"white\",\"linecolor\":\"white\",\"ticks\":\"\"}},\"coloraxis\":{\"colorbar\":{\"outlinewidth\":0,\"ticks\":\"\"}},\"colorscale\":{\"sequential\":[[0.0,\"#0d0887\"],[0.1111111111111111,\"#46039f\"],[0.2222222222222222,\"#7201a8\"],[0.3333333333333333,\"#9c179e\"],[0.4444444444444444,\"#bd3786\"],[0.5555555555555556,\"#d8576b\"],[0.6666666666666666,\"#ed7953\"],[0.7777777777777778,\"#fb9f3a\"],[0.8888888888888888,\"#fdca26\"],[1.0,\"#f0f921\"]],\"sequentialminus\":[[0.0,\"#0d0887\"],[0.1111111111111111,\"#46039f\"],[0.2222222222222222,\"#7201a8\"],[0.3333333333333333,\"#9c179e\"],[0.4444444444444444,\"#bd3786\"],[0.5555555555555556,\"#d8576b\"],[0.6666666666666666,\"#ed7953\"],[0.7777777777777778,\"#fb9f3a\"],[0.8888888888888888,\"#fdca26\"],[1.0,\"#f0f921\"]],\"diverging\":[[0,\"#8e0152\"],[0.1,\"#c51b7d\"],[0.2,\"#de77ae\"],[0.3,\"#f1b6da\"],[0.4,\"#fde0ef\"],[0.5,\"#f7f7f7\"],[0.6,\"#e6f5d0\"],[0.7,\"#b8e186\"],[0.8,\"#7fbc41\"],[0.9,\"#4d9221\"],[1,\"#276419\"]]},\"xaxis\":{\"gridcolor\":\"white\",\"linecolor\":\"white\",\"ticks\":\"\",\"title\":{\"standoff\":15},\"zerolinecolor\":\"white\",\"automargin\":true,\"zerolinewidth\":2},\"yaxis\":{\"gridcolor\":\"white\",\"linecolor\":\"white\",\"ticks\":\"\",\"title\":{\"standoff\":15},\"zerolinecolor\":\"white\",\"automargin\":true,\"zerolinewidth\":2},\"scene\":{\"xaxis\":{\"backgroundcolor\":\"#E5ECF6\",\"gridcolor\":\"white\",\"linecolor\":\"white\",\"showbackground\":true,\"ticks\":\"\",\"zerolinecolor\":\"white\",\"gridwidth\":2},\"yaxis\":{\"backgroundcolor\":\"#E5ECF6\",\"gridcolor\":\"white\",\"linecolor\":\"white\",\"showbackground\":true,\"ticks\":\"\",\"zerolinecolor\":\"white\",\"gridwidth\":2},\"zaxis\":{\"backgroundcolor\":\"#E5ECF6\",\"gridcolor\":\"white\",\"linecolor\":\"white\",\"showbackground\":true,\"ticks\":\"\",\"zerolinecolor\":\"white\",\"gridwidth\":2}},\"shapedefaults\":{\"line\":{\"color\":\"#2a3f5f\"}},\"annotationdefaults\":{\"arrowcolor\":\"#2a3f5f\",\"arrowhead\":0,\"arrowwidth\":1},\"geo\":{\"bgcolor\":\"white\",\"landcolor\":\"#E5ECF6\",\"subunitcolor\":\"white\",\"showland\":true,\"showlakes\":true,\"lakecolor\":\"white\"},\"title\":{\"x\":0.05},\"mapbox\":{\"style\":\"light\"}}},\"xaxis\":{\"anchor\":\"y\",\"domain\":[0.0,1.0],\"title\":{\"text\":\"n_features_to_select\"}},\"yaxis\":{\"anchor\":\"x\",\"domain\":[0.0,1.0],\"title\":{\"text\":\"score\"}},\"legend\":{\"title\":{\"text\":\"ranker\"},\"tracegroupgap\":0},\"margin\":{\"t\":60}},                        {\"responsive\": true}                    ).then(function(){\n",
       "                            \n",
       "var gd = document.getElementById('6199abb0-02fa-40b5-89eb-3f3a7ceaacad');\n",
       "var x = new MutationObserver(function (mutations, observer) {{\n",
       "        var display = window.getComputedStyle(gd).display;\n",
       "        if (!display || display === 'none') {{\n",
       "            console.log([gd, 'removed!']);\n",
       "            Plotly.purge(gd);\n",
       "            observer.disconnect();\n",
       "        }}\n",
       "}});\n",
       "\n",
       "// Listen for the removal of the full notebook cells\n",
       "var notebookContainer = gd.closest('#notebook-container');\n",
       "if (notebookContainer) {{\n",
       "    x.observe(notebookContainer, {childList: true});\n",
       "}}\n",
       "\n",
       "// Listen for the clearing of the current output cell\n",
       "var outputEl = gd.closest('.output');\n",
       "if (outputEl) {{\n",
       "    x.observe(outputEl, {childList: true});\n",
       "}}\n",
       "\n",
       "                        })                };                });            </script>        </div>"
      ]
     },
     "metadata": {},
     "output_type": "display_data"
    }
   ],
   "source": [
    "import plotly.express as px\n",
    "\n",
    "px.line(\n",
    "    validation_scores_with_experiment_info,\n",
    "    x=\"n_features_to_select\",\n",
    "    y=\"score\",\n",
    "    color=\"ranker\"\n",
    ")"
   ]
  },
  {
   "cell_type": "markdown",
   "metadata": {},
   "source": [
    "Indeed, we can see XGBoost, Infinite Selection and Decision Tree are solid contenders for this dataset.\n",
    "\n",
    "🙌🏻"
   ]
  },
  {
   "cell_type": "markdown",
   "metadata": {},
   "source": [
    "--- \n",
    "\n",
    "This has shown how easy it is to do a large benchmark with `fseval`. Cheers!"
   ]
  }
 ],
 "metadata": {
  "kernelspec": {
   "display_name": "Python 3.9.14 64-bit",
   "language": "python",
   "name": "python3"
  },
  "language_info": {
   "codemirror_mode": {
    "name": "ipython",
    "version": 3
   },
   "file_extension": ".py",
   "mimetype": "text/x-python",
   "name": "python",
   "nbconvert_exporter": "python",
   "pygments_lexer": "ipython3",
   "version": "3.9.14"
  },
  "orig_nbformat": 4,
  "vscode": {
   "interpreter": {
    "hash": "949777d72b0d2535278d3dc13498b2535136f6dfe0678499012e853ee9abcab1"
   }
  }
 },
 "nbformat": 4,
 "nbformat_minor": 2
}
